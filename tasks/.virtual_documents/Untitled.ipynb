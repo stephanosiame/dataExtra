import numpy as np


from sklearn import linear_model


reg = linear_model.LinearRegression()


reg.fit([[0,1],[1,1],[2,2]],[0,1,2])


reg.coef_


ridge = linear_model.Ridge()


ridge



